{
 "cells": [
  {
   "cell_type": "markdown",
   "metadata": {},
   "source": [
    "# The Battle of the Neighborhoods - Week 1"
   ]
  },
  {
   "cell_type": "markdown",
   "metadata": {},
   "source": [
    " "
   ]
  },
  {
   "cell_type": "markdown",
   "metadata": {},
   "source": [
    "### Data section"
   ]
  },
  {
   "cell_type": "markdown",
   "metadata": {},
   "source": [
    "For this problem statment, we are going to depend totally on data from FourSquare API. We would collect data of locations of Offices across top Tech Cities in the US which are: \n",
    "- Austin\n",
    "- Boston\n",
    "- Chicago\n",
    "- Colorado\n",
    "- Los Angeles\n",
    "- NYC\n",
    "- San Francisco\n",
    "- Seattle\n",
    "\n",
    "We beleive that, the listed building will have most agrressive businesses and sticking to their locations and will stratigically gives us the best location to start."
   ]
  },
  {
   "cell_type": "markdown",
   "metadata": {},
   "source": [
    "### Methodology"
   ]
  },
  {
   "cell_type": "markdown",
   "metadata": {},
   "source": [
    "Our target is to identify the locations with highest probable opportunity. Here we are utlizing Four Square API and are using ```venues/explore``` endpoints. \n",
    "\n",
    "We are going to plot the density of the offices along with IT services, to see if there is any scope of IT services within (10,000 m).\n",
    "\n",
    "``` Python\n",
    "    url = 'https://api.foursquare.com/v2/venues/explore?\\\n",
    "            &client_id={}&client_secret={}&v={}&near={}&radius={}&limit={}&categoryId={}'\\\n",
    "        .format(\n",
    "            CLIENT_ID, \n",
    "            CLIENT_SECRET, \n",
    "            VERSION, \n",
    "            city,\n",
    "            10000,\n",
    "            LIMIT,\n",
    "            \"4bf58dd8d48988d124941735\"         # OFFICE CATEGORY ID\n",
    "        ) \n",
    "    \n",
    "    url = 'https://api.foursquare.com/v2/venues/explore?\\\n",
    "            &client_id={}&client_secret={}&v={}&near={}&radius={}&limit={}&categoryId={}'\\\n",
    "        .format(\n",
    "            CLIENT_ID, \n",
    "            CLIENT_SECRET, \n",
    "            VERSION, \n",
    "            city,\n",
    "            10000,\n",
    "            LIMIT,\n",
    "            \"52f2ab2ebcbc57f1066b8b36\"         # IT Services CATEGORY ID\n",
    "        ) \n",
    " ```"
   ]
  },
  {
   "cell_type": "markdown",
   "metadata": {},
   "source": [
    "Also, Foursquare limits us to maximum of 100 venues per query.\n",
    "\n",
    "Moreover, I repeated this request to study 8 cities and got their top 100 venues. I saved the name and coordinate data only from the result and plotted them on the map for visual inspection.\n",
    "\n",
    "Next, to get an indicator of the density of dense places with scope of IT around it, I calculated a center coordinate of the venues to get the mean longitude and latitude values. Then I calculated the mean of the Euclidean distance from each venue to the mean coordinates. That was my indicator; mean distance to the mean coordinate, where we should probably plan to esablish the IT service"
   ]
  },
  {
   "cell_type": "markdown",
   "metadata": {},
   "source": [
    " "
   ]
  }
 ],
 "metadata": {
  "kernelspec": {
   "display_name": "Python 3",
   "language": "python",
   "name": "python3"
  },
  "language_info": {
   "codemirror_mode": {
    "name": "ipython",
    "version": 3
   },
   "file_extension": ".py",
   "mimetype": "text/x-python",
   "name": "python",
   "nbconvert_exporter": "python",
   "pygments_lexer": "ipython3",
   "version": "3.7.6"
  }
 },
 "nbformat": 4,
 "nbformat_minor": 4
}
