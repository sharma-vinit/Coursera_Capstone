{
 "cells": [
  {
   "cell_type": "markdown",
   "metadata": {},
   "source": [
    "# The Battle of the Neighborhoods - Report"
   ]
  },
  {
   "cell_type": "markdown",
   "metadata": {},
   "source": [
    " "
   ]
  },
  {
   "cell_type": "markdown",
   "metadata": {},
   "source": [
    "## Introduction & Business Problem :"
   ]
  },
  {
   "cell_type": "markdown",
   "metadata": {},
   "source": [
    "### Problem Background:"
   ]
  },
  {
   "cell_type": "markdown",
   "metadata": {},
   "source": [
    "The tech industry is alluring—there’s no doubt about it. A career in technology promises high wages, opportunities to innovate, and a chance to make a real impact on the world. Choosing the right city can make a huge difference in your career prospects. Today, the tech industry spans across the United States, and each region has its own technology hub.\n",
    "It provides lot of business oppourtunities and business friendly environment. It has attracted many different players into the market. It is a global hub of business and commerce."
   ]
  },
  {
   "cell_type": "markdown",
   "metadata": {},
   "source": [
    "This also means that the market is highly competitive. As these are highly developed cities so cost of doing business is also the highest. Therefore, any new business venture or expansion needs to be analysed carefully. The insights derived from the analysis will give us a good understanding of the business environment which help in strategically targeting the market. This will help in reduction of risk and the reasonable Return on Investment (ROI)."
   ]
  },
  {
   "cell_type": "markdown",
   "metadata": {},
   "source": [
    "### Problem Description:"
   ]
  },
  {
   "cell_type": "markdown",
   "metadata": {},
   "source": [
    "IT services refers to the application of business and technical expertise to enable organizations in the creation, management and optimization of or access to information and business processes."
   ]
  },
  {
   "cell_type": "markdown",
   "metadata": {},
   "source": [
    "**The problem we aim to solve is to analyze the IT Services’ locations in the major Tech based US cities and find the best place for our investor so that he they could compete and have a reasonable ROI.**\n",
    "\n",
    "Our main target are offices, building like:\n",
    "- Advertising Agency\n",
    "- Campaign Office\n",
    "- Conference Room\n",
    "- Corporate Amenity\n",
    "- Corporate Cafeteria\n",
    "- Corporate Coffee Shop\n",
    "- Coworking Space\n",
    "- Tech Startup"
   ]
  },
  {
   "cell_type": "markdown",
   "metadata": {},
   "source": [
    "So it is evident that to survive in such competitive market it is very important to startegically plan. Various factors need to be studied inorder to decide on the Location such as :\n",
    "- Population\n",
    "- Workforce\n",
    "- Training and education\n",
    "- Career opportunities\n",
    "- Ploitical Factors\n",
    "- Logistics\n",
    "- Weather etc."
   ]
  },
  {
   "cell_type": "markdown",
   "metadata": {},
   "source": [
    "Eventhough well funded XYZ Company Ltd. need to choose the correct location to start its first venture.If this is successful they can replicate the same in other locations. First move is very important, thereby choice of location is very important."
   ]
  },
  {
   "cell_type": "markdown",
   "metadata": {},
   "source": [
    "### Target Audience:"
   ]
  },
  {
   "cell_type": "markdown",
   "metadata": {},
   "source": [
    "To recommend the correct location, XYZ Company Ltd has requested our Data Science team, for help. \n",
    "\n",
    "The objective is to locate and recommend to the management which city is bested suited to start new venture related to IT services, as they see huge scope in it. The Management also expects to understand the rationale of the recommendations made."
   ]
  },
  {
   "cell_type": "markdown",
   "metadata": {},
   "source": [
    "### Data section"
   ]
  },
  {
   "cell_type": "markdown",
   "metadata": {},
   "source": [
    "For this problem statment, we are going to depend totally on data from FourSquare API. We would collect data of locations of Offices across top Tech Cities in the US which are: \n",
    "- Austin\n",
    "- Boston\n",
    "- Chicago\n",
    "- Colorado\n",
    "- Los Angeles\n",
    "- NYC\n",
    "- San Francisco\n",
    "- Seattle\n",
    "\n",
    "We beleive that, the listed building will have most agrressive businesses and sticking to their locations and will stratigically gives us the best location to start."
   ]
  },
  {
   "cell_type": "markdown",
   "metadata": {},
   "source": [
    "### Methodology"
   ]
  },
  {
   "cell_type": "markdown",
   "metadata": {},
   "source": [
    "Our target is to identify the locations with highest probable opportunity. Here we are utlizing Four Square API and are using ```venues/explore``` endpoints. \n",
    "\n",
    "We are going to plot the density of the offices along with IT services, to see if there is any scope of IT services within (10,000 m).\n",
    "\n",
    "``` Python\n",
    "    url = 'https://api.foursquare.com/v2/venues/explore?\\\n",
    "            &client_id={}&client_secret={}&v={}&near={}&radius={}&limit={}&categoryId={}'\\\n",
    "        .format(\n",
    "            CLIENT_ID, \n",
    "            CLIENT_SECRET, \n",
    "            VERSION, \n",
    "            city,\n",
    "            10000,\n",
    "            LIMIT,\n",
    "            \"4bf58dd8d48988d124941735\"         # OFFICE CATEGORY ID\n",
    "        ) \n",
    "    \n",
    "    url = 'https://api.foursquare.com/v2/venues/explore?\\\n",
    "            &client_id={}&client_secret={}&v={}&near={}&radius={}&limit={}&categoryId={}'\\\n",
    "        .format(\n",
    "            CLIENT_ID, \n",
    "            CLIENT_SECRET, \n",
    "            VERSION, \n",
    "            city,\n",
    "            10000,\n",
    "            LIMIT,\n",
    "            \"52f2ab2ebcbc57f1066b8b36\"         # IT Services CATEGORY ID\n",
    "        ) \n",
    " ```"
   ]
  },
  {
   "cell_type": "markdown",
   "metadata": {},
   "source": [
    "Also, Foursquare limits us to maximum of 100 venues per query.\n",
    "\n",
    "Moreover, I repeated this request to study 8 cities and got their top 100 venues. \n",
    "We would get all the Office locations with, their following dimensions:\n",
    "- Name\n",
    "- Address\n",
    "- Latitude\n",
    "- Longitude"
   ]
  },
  {
   "cell_type": "markdown",
   "metadata": {},
   "source": [
    "### Normalize data from Json"
   ]
  },
  {
   "cell_type": "markdown",
   "metadata": {},
   "source": [
    " <img src=\"images/1.png\" alt=\"normalized data\" height=100% width=100%> "
   ]
  },
  {
   "cell_type": "markdown",
   "metadata": {},
   "source": [
    "I saved the name and coordinate data only from the result and plotted them on the map for visual inspection."
   ]
  },
  {
   "cell_type": "markdown",
   "metadata": {},
   "source": [
    "### Statistics depicting availlable opportinites w.r.t. Offices and IT services"
   ]
  },
  {
   "cell_type": "markdown",
   "metadata": {},
   "source": [
    " <img src=\"images/2.png\" alt=\"normalized data\" height=60% width=60%> "
   ]
  },
  {
   "cell_type": "markdown",
   "metadata": {},
   "source": [
    "### Plot received co-ordinates for 'Offices' and 'IT Services' seperately\n",
    "- Markers for 'Offices' are in Blue\n",
    "- Markers for 'IT Services' are in red\n",
    "\n",
    "#### Plotting top three opportunities"
   ]
  },
  {
   "cell_type": "markdown",
   "metadata": {},
   "source": [
    " #### Boston\n",
    " <img src=\"images/3.png\" alt=\"map\" height=80% width=80%> "
   ]
  },
  {
   "cell_type": "markdown",
   "metadata": {},
   "source": [
    " #### Los Angeles\n",
    " <img src=\"images/4.png\" alt=\"map\" height=80% width=80%> "
   ]
  },
  {
   "cell_type": "markdown",
   "metadata": {},
   "source": [
    "#### Seattle\n",
    "<img src=\"images/5.png\" alt=\"map\" height=80% width=80%> "
   ]
  },
  {
   "cell_type": "markdown",
   "metadata": {},
   "source": [
    "Next, to get an indicator of the density of dense places with scope of IT around it, I calculated a center coordinate of the venues to get the mean longitude and latitude values. Then I calculated the mean of the Euclidean distance from each venue to the mean coordinates. That was my indicator; mean distance to the mean coordinate, where we should probably plan to esablish the IT service."
   ]
  },
  {
   "cell_type": "markdown",
   "metadata": {},
   "source": [
    " ### Result"
   ]
  },
  {
   "cell_type": "markdown",
   "metadata": {},
   "source": [
    "#### Calculate Mean Co-ordinates for our mean location, to get the visuals"
   ]
  },
  {
   "cell_type": "markdown",
   "metadata": {},
   "source": [
    " <img src=\"images/6.png\" alt=\"map\" height=40% width=40%> "
   ]
  },
  {
   "cell_type": "markdown",
   "metadata": {},
   "source": [
    " #### Boston\n",
    " <img src=\"images/7.png\" alt=\"map\" height=80% width=80%> "
   ]
  },
  {
   "cell_type": "markdown",
   "metadata": {},
   "source": [
    " #### Los Angeles\n",
    " <img src=\"images/8.png\" alt=\"map\" height=80% width=80%> "
   ]
  },
  {
   "cell_type": "markdown",
   "metadata": {},
   "source": [
    "#### Seattle\n",
    "<img src=\"images/9.png\" alt=\"map\" height=80% width=80%> "
   ]
  },
  {
   "cell_type": "markdown",
   "metadata": {},
   "source": [
    "#### Below are the key locations:"
   ]
  },
  {
   "cell_type": "markdown",
   "metadata": {},
   "source": [
    "<img src=\"images/10.png\" alt=\"map\" height=50% width=50%> "
   ]
  },
  {
   "cell_type": "markdown",
   "metadata": {},
   "source": [
    "### Conclusion"
   ]
  },
  {
   "cell_type": "markdown",
   "metadata": {},
   "source": [
    "- We can clearly see that, all the Offices markers and IT Services markers overlap.\n",
    "- As, we have seen the fact that “Total Number of IT services” in comparison to “Total number of Offices” in a city are very low. Which means the demand must be high and IT services, must be running out of resources.\n",
    "- It would be great idea to invest in IT services and plan to invest.\n",
    "- It might also help in building good relationship with IT based companies and build prospects."
   ]
  }
 ],
 "metadata": {
  "kernelspec": {
   "display_name": "Python 3",
   "language": "python",
   "name": "python3"
  },
  "language_info": {
   "codemirror_mode": {
    "name": "ipython",
    "version": 3
   },
   "file_extension": ".py",
   "mimetype": "text/x-python",
   "name": "python",
   "nbconvert_exporter": "python",
   "pygments_lexer": "ipython3",
   "version": "3.7.6"
  }
 },
 "nbformat": 4,
 "nbformat_minor": 4
}
