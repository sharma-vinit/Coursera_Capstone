{
 "cells": [
  {
   "cell_type": "markdown",
   "metadata": {},
   "source": [
    "# The Battle of the Neighborhoods - Week 1"
   ]
  },
  {
   "cell_type": "markdown",
   "metadata": {},
   "source": [
    " "
   ]
  },
  {
   "cell_type": "markdown",
   "metadata": {},
   "source": [
    "## Introduction & Business Problem :"
   ]
  },
  {
   "cell_type": "markdown",
   "metadata": {},
   "source": [
    "### Problem Background:"
   ]
  },
  {
   "cell_type": "markdown",
   "metadata": {},
   "source": [
    "The tech industry is alluring—there’s no doubt about it. A career in technology promises high wages, opportunities to innovate, and a chance to make a real impact on the world. Choosing the right city can make a huge difference in your career prospects. Today, the tech industry spans across the United States, and each region has its own technology hub.\n",
    "It provides lot of business oppourtunities and business friendly environment. It has attracted many different players into the market. It is a global hub of business and commerce."
   ]
  },
  {
   "cell_type": "markdown",
   "metadata": {},
   "source": [
    "This also means that the market is highly competitive. As these are highly developed cities so cost of doing business is also the highest. Therefore, any new business venture or expansion needs to be analysed carefully. The insights derived from the analysis will give us a good understanding of the business environment which help in strategically targeting the market. This will help in reduction of risk and the reasonable Return on Investment (ROI)."
   ]
  },
  {
   "cell_type": "markdown",
   "metadata": {},
   "source": [
    "### Problem Description:"
   ]
  },
  {
   "cell_type": "markdown",
   "metadata": {},
   "source": [
    "IT services refers to the application of business and technical expertise to enable organizations in the creation, management and optimization of or access to information and business processes."
   ]
  },
  {
   "cell_type": "markdown",
   "metadata": {},
   "source": [
    "**The problem we aim to solve is to analyze the IT Services’ locations in the major Tech based US cities and find the best place for our investor so that he they could compete and have a reasonable ROI.**\n",
    "\n",
    "Our main target are offices, building like:\n",
    "- Advertising Agency\n",
    "- Campaign Office\n",
    "- Conference Room\n",
    "- Corporate Amenity\n",
    "- Corporate Cafeteria\n",
    "- Corporate Coffee Shop\n",
    "- Coworking Space\n",
    "- Tech Startup"
   ]
  },
  {
   "cell_type": "markdown",
   "metadata": {},
   "source": [
    "So it is evident that to survive in such competitive market it is very important to startegically plan. Various factors need to be studied inorder to decide on the Location such as :\n",
    "- Population\n",
    "- Workforce\n",
    "- Training and education\n",
    "- Career opportunities\n",
    "- Ploitical Factors\n",
    "- Logistics\n",
    "- Weather etc."
   ]
  },
  {
   "cell_type": "markdown",
   "metadata": {},
   "source": [
    "Eventhough well funded XYZ Company Ltd. need to choose the correct location to start its first venture.If this is successful they can replicate the same in other locations. First move is very important, thereby choice of location is very important."
   ]
  },
  {
   "cell_type": "markdown",
   "metadata": {},
   "source": [
    "### Target Audience:"
   ]
  },
  {
   "cell_type": "markdown",
   "metadata": {},
   "source": [
    "To recommend the correct location, XYZ Company Ltd has requested our Data Science team, for help. \n",
    "\n",
    "The objective is to locate and recommend to the management which city is bested suited to start new venture related to IT services, as they see huge scope in it. The Management also expects to understand the rationale of the recommendations made."
   ]
  },
  {
   "cell_type": "markdown",
   "metadata": {},
   "source": [
    " "
   ]
  }
 ],
 "metadata": {
  "kernelspec": {
   "display_name": "Python 3",
   "language": "python",
   "name": "python3"
  },
  "language_info": {
   "codemirror_mode": {
    "name": "ipython",
    "version": 3
   },
   "file_extension": ".py",
   "mimetype": "text/x-python",
   "name": "python",
   "nbconvert_exporter": "python",
   "pygments_lexer": "ipython3",
   "version": "3.7.6"
  }
 },
 "nbformat": 4,
 "nbformat_minor": 4
}
